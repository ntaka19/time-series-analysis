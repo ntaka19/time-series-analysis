{
 "cells": [
  {
   "cell_type": "code",
   "execution_count": 2,
   "metadata": {},
   "outputs": [
    {
     "data": {
      "image/png": "[encoded data removed]",
      "text/plain": [
       "<Figure size 288x288 with 1 Axes>"
      ]
     },
     "metadata": {},
     "output_type": "display_data"
    }
   ],
   "source": [
    "from sklearn import datasets\n",
    "\n",
    "# 手書き文字セットを読み込む\n",
    "digits = datasets.load_digits()\n",
    "\n",
    "# どのようなデータか、確認してみる\n",
    "import matplotlib.pyplot as plt\n",
    "plt.matshow(digits.images[0], cmap=\"Greys\")\n",
    "plt.show()"
   ]
  },
  {
   "cell_type": "code",
   "execution_count": 3,
   "metadata": {},
   "outputs": [],
   "source": [
    "# 画像データを配列にしたもの(numpy.ndarray型)\n",
    "X = digits.data\n",
    "\n",
    "# 画像データに対する数字(numpy.ndarray型)。ラベルと言う\n",
    "y = digits.target\n",
    "\n",
    "# 訓練データとテストデータに分ける\n",
    "# 訓練データ ：偶数行\n",
    "X_train, y_train = X[0::2], y[0::2]\n",
    "# テストデータ：奇数行\n",
    "X_test, y_test = X[1::2], y[1::2]"
   ]
  },
  {
   "cell_type": "code",
   "execution_count": null,
   "metadata": {},
   "outputs": [],
   "source": []
  }
 ],
 "metadata": {
  "kernelspec": {
   "display_name": "Python 3",
   "language": "python",
   "name": "python3"
  },
  "language_info": {
   "codemirror_mode": {
    "name": "ipython",
    "version": 3
   },
   "file_extension": ".py",
   "mimetype": "text/x-python",
   "name": "python",
   "nbconvert_exporter": "python",
   "pygments_lexer": "ipython3",
   "version": "3.6.5"
  }
 },
 "nbformat": 4,
 "nbformat_minor": 2
}
